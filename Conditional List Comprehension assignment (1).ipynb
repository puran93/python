{
 "cells": [
  {
   "cell_type": "code",
   "execution_count": null,
   "id": "065883cf-0c35-4ffc-b914-c063d4884d3c",
   "metadata": {},
   "outputs": [],
   "source": [
    "Create a list of numbers from 1 to 50 that are divisible by both 3 and 5."
   ]
  },
  {
   "cell_type": "code",
   "execution_count": 1,
   "id": "59c361f8-679b-495c-bcf8-bd115bd21ed8",
   "metadata": {},
   "outputs": [
    {
     "name": "stdout",
     "output_type": "stream",
     "text": [
      "[15, 30, 45]\n"
     ]
    }
   ],
   "source": [
    "numbers = [num for num in range(1, 51) if num % 3 == 0 and num % 5 == 0]\n",
    "print(numbers)"
   ]
  },
  {
   "cell_type": "code",
   "execution_count": null,
   "id": "ca6f3f5e-3d21-4e04-8ea5-8a18a83852f4",
   "metadata": {},
   "outputs": [],
   "source": [
    "Given a list of numbers [1, 2, 3, 4, 5, 6, 7, 8, 9, 10], create a new list containing only the odd numbers."
   ]
  },
  {
   "cell_type": "code",
   "execution_count": 2,
   "id": "cac87164-46e8-4cae-ad57-504cd9e27836",
   "metadata": {},
   "outputs": [
    {
     "name": "stdout",
     "output_type": "stream",
     "text": [
      "[1, 3, 5, 7, 9]\n"
     ]
    }
   ],
   "source": [
    "numbers = [1, 2, 3, 4, 5, 6, 7, 8, 9, 10]\n",
    "odd_numbers = [num for num in numbers if num % 2 != 0]\n",
    "print(odd_numbers)"
   ]
  },
  {
   "cell_type": "code",
   "execution_count": null,
   "id": "aa78b184-33e2-4c6c-8649-7622b2f4a025",
   "metadata": {},
   "outputs": [],
   "source": [
    "Given a string \"hello world\", create a list of vowels present in the string"
   ]
  },
  {
   "cell_type": "code",
   "execution_count": 3,
   "id": "8e1d6af7-6b96-4043-a06b-e3d7752ad928",
   "metadata": {},
   "outputs": [
    {
     "name": "stdout",
     "output_type": "stream",
     "text": [
      "['e', 'o']\n"
     ]
    }
   ],
   "source": [
    "text = \"hello \"\n",
    "vowels = \"aeiou\"\n",
    "vowel_list = [char for char in text if char in vowels]\n",
    "print(vowel_list)"
   ]
  },
  {
   "cell_type": "code",
   "execution_count": null,
   "id": "8b32d9b8-672f-4988-9224-abfaaee38480",
   "metadata": {},
   "outputs": [],
   "source": [
    "Convert a list of words [\"Hello\", \"WORLD\", \"Python\", \"LiSt\"] to lowercase using list comprehension."
   ]
  },
  {
   "cell_type": "code",
   "execution_count": 4,
   "id": "3b56aa6e-26a4-497f-adef-ed4aa3065293",
   "metadata": {},
   "outputs": [
    {
     "name": "stdout",
     "output_type": "stream",
     "text": [
      "['hello', 'world', 'python', 'list']\n"
     ]
    }
   ],
   "source": [
    "words = [\"Hello\", \"WORLD\", \"Python\", \"LiSt\"]\n",
    "lowercase_words = [word.lower() for word in words]\n",
    "print(lowercase_words)"
   ]
  },
  {
   "cell_type": "code",
   "execution_count": null,
   "id": "23649896-5b97-4862-bb0a-87bb97299159",
   "metadata": {},
   "outputs": [],
   "source": [
    "Create a list of even numbers from 1 to 50."
   ]
  },
  {
   "cell_type": "code",
   "execution_count": 5,
   "id": "3e34524f-11b3-46d6-9b0b-1569e93fbd0e",
   "metadata": {},
   "outputs": [
    {
     "name": "stdout",
     "output_type": "stream",
     "text": [
      "[2, 4, 6, 8, 10, 12, 14, 16, 18, 20, 22, 24, 26, 28, 30, 32, 34, 36, 38, 40, 42, 44, 46, 48, 50]\n"
     ]
    }
   ],
   "source": [
    "even_numbers = [num for num in range(1, 51) if num % 2 == 0]\n",
    "print(even_numbers)"
   ]
  },
  {
   "cell_type": "code",
   "execution_count": null,
   "id": "fb3a3ee4-b214-40ed-bc48-5019bbc0552e",
   "metadata": {},
   "outputs": [],
   "source": []
  }
 ],
 "metadata": {
  "kernelspec": {
   "display_name": "Python 3 (ipykernel)",
   "language": "python",
   "name": "python3"
  },
  "language_info": {
   "codemirror_mode": {
    "name": "ipython",
    "version": 3
   },
   "file_extension": ".py",
   "mimetype": "text/x-python",
   "name": "python",
   "nbconvert_exporter": "python",
   "pygments_lexer": "ipython3",
   "version": "3.12.7"
  }
 },
 "nbformat": 4,
 "nbformat_minor": 5
}
