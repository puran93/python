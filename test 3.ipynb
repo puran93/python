{
 "cells": [
  {
   "cell_type": "code",
   "execution_count": null,
   "id": "e278766b-c8a6-40cf-8d15-c5441d1bdae9",
   "metadata": {},
   "outputs": [],
   "source": [
    "function"
   ]
  },
  {
   "cell_type": "code",
   "execution_count": null,
   "id": "07a6a0ab-dc5a-46ea-92ee-2765b4ae1a68",
   "metadata": {},
   "outputs": [],
   "source": [
    "Write a function to find the maximum of three numbers"
   ]
  },
  {
   "cell_type": "code",
   "execution_count": 3,
   "id": "57d0f626-1101-4c41-b1a3-d6f2ab7f1ecf",
   "metadata": {},
   "outputs": [
    {
     "name": "stdout",
     "output_type": "stream",
     "text": [
      "25\n"
     ]
    }
   ],
   "source": [
    "def max_of_three(a, b, c):\n",
    "    return max(a, b, c)\n",
    "print(max_of_three(10, 25, 17)) "
   ]
  },
  {
   "cell_type": "code",
   "execution_count": null,
   "id": "b5a320ae-f5f5-4d2c-a78e-e30e38f8b2a3",
   "metadata": {},
   "outputs": [],
   "source": [
    " Write a function to check if a number is prime or not."
   ]
  },
  {
   "cell_type": "code",
   "execution_count": 6,
   "id": "1f4cc3b9-2e57-4811-9bcb-54e5fd63129c",
   "metadata": {},
   "outputs": [
    {
     "name": "stdout",
     "output_type": "stream",
     "text": [
      "5 is a prime number.\n"
     ]
    }
   ],
   "source": [
    "def is_prime(n):\n",
    "    if n <= 1:\n",
    "        return False\n",
    "    for i in range(2, int(n ** 0.5) + 1):\n",
    "        if n % i == 0:\n",
    "            return False\n",
    "    return True\n",
    "num = 5\n",
    "if is_prime(num):\n",
    "    print(f\"{num} is a prime number.\")\n",
    "else:\n",
    "    print(f\"{num} is not a prime number.\")"
   ]
  },
  {
   "cell_type": "code",
   "execution_count": null,
   "id": "d0f36a43-9a3f-44f5-aa73-e5965ec24092",
   "metadata": {},
   "outputs": [],
   "source": [
    "Write a function to count the number of vowels in a given string"
   ]
  },
  {
   "cell_type": "code",
   "execution_count": 9,
   "id": "d2afb5d8-499a-4ed0-a40f-6e111d621d13",
   "metadata": {},
   "outputs": [
    {
     "name": "stdout",
     "output_type": "stream",
     "text": [
      "Number of vowels: 6\n"
     ]
    }
   ],
   "source": [
    "def count_vowels(s):\n",
    "    vowels = \"aeiouAEIOU\"\n",
    "    count = sum(1 for char in s if char in vowels)\n",
    "    return count\n",
    "string = \"Hello, i am puran \"\n",
    "print(f\"Number of vowels: {count_vowels(string)}\")"
   ]
  },
  {
   "cell_type": "code",
   "execution_count": null,
   "id": "6fc27be3-213d-46b1-8d0b-df70eaf49f43",
   "metadata": {},
   "outputs": [],
   "source": [
    "Write a function that takes a list of numbers and returns the sum of all even numbers."
   ]
  },
  {
   "cell_type": "code",
   "execution_count": 12,
   "id": "0fb54000-fd07-4cb0-a7ce-f7b4fa5b2b9c",
   "metadata": {},
   "outputs": [
    {
     "name": "stdout",
     "output_type": "stream",
     "text": [
      "Sum of even numbers: 30\n"
     ]
    }
   ],
   "source": [
    "def sum_of_evens(numbers):\n",
    "    return sum(num for num in numbers if num % 2 == 0)\n",
    "num_list = [1, 2, 3, 4, 5, 6, 7, 8, 9, 10]\n",
    "print(f\"Sum of even numbers: {sum_of_evens(num_list)}\")  "
   ]
  },
  {
   "cell_type": "code",
   "execution_count": null,
   "id": "f49b86b3-ef1c-4035-87d0-190130606be9",
   "metadata": {},
   "outputs": [],
   "source": [
    "Write a function that takes a number as input and returns its factorial.\n"
   ]
  },
  {
   "cell_type": "code",
   "execution_count": 14,
   "id": "cf3fd81c-e7f3-4765-9b2d-2bdfb23d9662",
   "metadata": {},
   "outputs": [
    {
     "name": "stdout",
     "output_type": "stream",
     "text": [
      "Factorial of 5 is: 120\n"
     ]
    }
   ],
   "source": [
    "def factorial(n):\n",
    "    if n < 0:\n",
    "        return \"Factorial is not defined for negative numbers.\"\n",
    "    if n == 0 or n == 1:\n",
    "        return 1\n",
    "    result = 1\n",
    "    for i in range(2, n + 1):\n",
    "        result *= i\n",
    "    return result\n",
    "num = 5\n",
    "print(f\"Factorial of {num} is: {factorial(num)}\")  "
   ]
  },
  {
   "cell_type": "code",
   "execution_count": null,
   "id": "a0d821ea-d982-42c5-bfde-a840652195d3",
   "metadata": {},
   "outputs": [],
   "source": []
  },
  {
   "cell_type": "code",
   "execution_count": null,
   "id": "868a0f53-4d42-47a0-94f4-a89be45e6f50",
   "metadata": {},
   "outputs": [],
   "source": [
    "Object-Oriented Programming (OOP)"
   ]
  },
  {
   "cell_type": "code",
   "execution_count": 23,
   "id": "059ad738-21ad-40b3-a9e7-03d9572085ed",
   "metadata": {},
   "outputs": [
    {
     "name": "stdout",
     "output_type": "stream",
     "text": [
      "Car Details: 2022 Toyota Corolla\n"
     ]
    }
   ],
   "source": [
    "class Car:\n",
    "    def __init__(self, brand, model, year):\n",
    "        self.brand = brand\n",
    "        self.model = model\n",
    "        self.year = year\n",
    "\n",
    "    def display_details(self):\n",
    "        print(f\"Car Details: {self.year} {self.brand} {self.model}\")\n",
    "\n",
    "\n",
    "my_car = Car(\"Toyota\", \"Corolla\", 2022)\n",
    "my_car.display_details() "
   ]
  },
  {
   "cell_type": "code",
   "execution_count": null,
   "id": "5c10eed2-35e8-48ec-9a03-ae475551e903",
   "metadata": {},
   "outputs": [],
   "source": [
    " Create a class Rectangle with attributes length and width. Add methods to calculate area and perimeter.\n"
   ]
  },
  {
   "cell_type": "code",
   "execution_count": 24,
   "id": "592e1596-fa87-4be8-811f-b76cbb21335b",
   "metadata": {},
   "outputs": [
    {
     "name": "stdout",
     "output_type": "stream",
     "text": [
      "Area: 50\n",
      "Perimeter: 30\n"
     ]
    }
   ],
   "source": [
    "class Rectangle:\n",
    "    def __init__(self, length, width):\n",
    "        self.length = length\n",
    "        self.width = width\n",
    "\n",
    "    def area(self):\n",
    "        return self.length * self.width\n",
    "\n",
    "    def perimeter(self):\n",
    "        return 2 * (self.length + self.width)\n",
    "\n",
    "rect = Rectangle(10, 5)\n",
    "print(f\"Area: {rect.area()}\")       \n",
    "print(f\"Perimeter: {rect.perimeter()}\") "
   ]
  },
  {
   "cell_type": "code",
   "execution_count": null,
   "id": "8cb31eef-c847-4673-8a44-59fd1ddbd3d1",
   "metadata": {},
   "outputs": [],
   "source": [
    "Create a class BankAccount with attributes account_number and balance. Add methods to deposit and withdraw money.\n"
   ]
  },
  {
   "cell_type": "code",
   "execution_count": 25,
   "id": "825dcc31-5e3c-4ef5-8f10-c9ab925cf0a6",
   "metadata": {},
   "outputs": [
    {
     "name": "stdout",
     "output_type": "stream",
     "text": [
      "Deposited $200. New balance: $700\n",
      "Withdrew $100. New balance: $600\n",
      "Insufficient balance!\n",
      "Account 123456789 Balance: $600\n"
     ]
    }
   ],
   "source": [
    "class BankAccount:\n",
    "    def __init__(self, account_number, balance=0):\n",
    "        self.account_number = account_number\n",
    "        self.balance = balance\n",
    "\n",
    "    def deposit(self, amount):\n",
    "        if amount > 0:\n",
    "            self.balance += amount\n",
    "            print(f\"Deposited ${amount}. New balance: ${self.balance}\")\n",
    "        else:\n",
    "            print(\"Deposit amount must be positive.\")\n",
    "\n",
    "    def withdraw(self, amount):\n",
    "        if 0 < amount <= self.balance:\n",
    "            self.balance -= amount\n",
    "            print(f\"Withdrew ${amount}. New balance: ${self.balance}\")\n",
    "        elif amount > self.balance:\n",
    "            print(\"Insufficient balance!\")\n",
    "        else:\n",
    "            print(\"Withdrawal amount must be positive.\")\n",
    "\n",
    "    def display_balance(self):\n",
    "        print(f\"Account {self.account_number} Balance: ${self.balance}\")\n",
    "\n",
    "\n",
    "account = BankAccount(\"123456789\", 500)\n",
    "account.deposit(200)    \n",
    "account.withdraw(100)   \n",
    "account.withdraw(1000)  \n",
    "account.display_balance()  "
   ]
  },
  {
   "cell_type": "code",
   "execution_count": null,
   "id": "b04a57a1-4e25-4af8-b5a2-01dfebeda2df",
   "metadata": {},
   "outputs": [],
   "source": []
  },
  {
   "cell_type": "code",
   "execution_count": null,
   "id": "d00f9287-c659-415d-b93e-04af6f9d5fe1",
   "metadata": {},
   "outputs": [],
   "source": []
  },
  {
   "cell_type": "code",
   "execution_count": null,
   "id": "ec9433df-3157-44c3-9e80-2f1c3a5835df",
   "metadata": {},
   "outputs": [],
   "source": []
  },
  {
   "cell_type": "code",
   "execution_count": null,
   "id": "60f62857-5fa2-4d4c-8bfb-9d7c8367669f",
   "metadata": {},
   "outputs": [],
   "source": []
  },
  {
   "cell_type": "code",
   "execution_count": null,
   "id": "1d621b2e-907c-40fc-815f-0d97540b8be7",
   "metadata": {},
   "outputs": [],
   "source": []
  },
  {
   "cell_type": "code",
   "execution_count": null,
   "id": "03219a2e-fef7-43c9-95a4-8b23907f2f87",
   "metadata": {},
   "outputs": [],
   "source": []
  }
 ],
 "metadata": {
  "kernelspec": {
   "display_name": "Python 3 (ipykernel)",
   "language": "python",
   "name": "python3"
  },
  "language_info": {
   "codemirror_mode": {
    "name": "ipython",
    "version": 3
   },
   "file_extension": ".py",
   "mimetype": "text/x-python",
   "name": "python",
   "nbconvert_exporter": "python",
   "pygments_lexer": "ipython3",
   "version": "3.12.7"
  }
 },
 "nbformat": 4,
 "nbformat_minor": 5
}
