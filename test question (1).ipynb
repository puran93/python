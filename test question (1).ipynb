{
 "cells": [
  {
   "cell_type": "code",
   "execution_count": null,
   "id": "f7c2e9e4-03ab-4894-b542-2a3b0d8f2ea2",
   "metadata": {},
   "outputs": [],
   "source": [
    "Write a Python function to check if a number is prime"
   ]
  },
  {
   "cell_type": "code",
   "execution_count": 1,
   "id": "08fdf042-6037-4409-9dba-91fb1430193e",
   "metadata": {},
   "outputs": [
    {
     "name": "stdout",
     "output_type": "stream",
     "text": [
      "True\n",
      "False\n"
     ]
    }
   ],
   "source": [
    "def is_prime(n):\n",
    "    \"\"\"Check if a number is prime.\"\"\"\n",
    "    if n < 2:\n",
    "        return False\n",
    "    for i in range(2, int(n ** 0.5) + 1):\n",
    "        if n % i == 0:\n",
    "            return False\n",
    "    return True\n",
    "print(is_prime(11)) \n",
    "print(is_prime(15))  "
   ]
  },
  {
   "cell_type": "code",
   "execution_count": null,
   "id": "1305973e-f2e6-4261-a5b4-d326913d3151",
   "metadata": {},
   "outputs": [],
   "source": [
    "Write a Python function that returns the sum of elements in a list"
   ]
  },
  {
   "cell_type": "code",
   "execution_count": 2,
   "id": "af41a1ad-fd8d-4143-9d15-b58152046872",
   "metadata": {},
   "outputs": [
    {
     "name": "stdout",
     "output_type": "stream",
     "text": [
      "15\n",
      "11\n"
     ]
    }
   ],
   "source": [
    "def sum_of_list(numbers):\n",
    "    \"\"\"Return the sum of all elements in a list.\"\"\"\n",
    "    return sum(numbers)\n",
    "print(sum_of_list([1, 2, 3, 4, 5]))\n",
    "print(sum_of_list([-1, 10, -5, 7]))  "
   ]
  },
  {
   "cell_type": "code",
   "execution_count": null,
   "id": "5051dec6-adb4-405d-84e9-ed590563e438",
   "metadata": {},
   "outputs": [],
   "source": [
    "Write a Python function to find the maximum of three numbers"
   ]
  },
  {
   "cell_type": "code",
   "execution_count": 3,
   "id": "728b1d81-0de1-4741-a015-9f38b74f5076",
   "metadata": {},
   "outputs": [
    {
     "name": "stdout",
     "output_type": "stream",
     "text": [
      "25\n",
      "-1\n"
     ]
    }
   ],
   "source": [
    "def max_of_three(a, b, c):\n",
    "    \"\"\"Return the maximum of three numbers.\"\"\"\n",
    "    return max(a, b, c)\n",
    "print(max_of_three(10, 25, 15))\n",
    "print(max_of_three(-5, -1, -10))"
   ]
  },
  {
   "cell_type": "code",
   "execution_count": null,
   "id": "9afde723-bf38-4bf5-9bc9-b3ca28747024",
   "metadata": {},
   "outputs": [],
   "source": [
    "Write a Python program to read a text file and display its contents."
   ]
  },
  {
   "cell_type": "code",
   "execution_count": 5,
   "id": "d8c2fe91-4f83-4b01-a734-dc4ac8836132",
   "metadata": {},
   "outputs": [
    {
     "name": "stdout",
     "output_type": "stream",
     "text": [
      "Error: The file 'example.txt' was not found.\n"
     ]
    }
   ],
   "source": [
    "def read_file(filename):\n",
    "    \"\"\"Read and display the contents of a text file.\"\"\"\n",
    "    try:\n",
    "        with open(filename, 'r', encoding='utf-8') as file:\n",
    "            contents = file.read()\n",
    "            print(contents)\n",
    "    except FileNotFoundError:\n",
    "        print(f\"Error: The file '{filename}' was not found.\")\n",
    "filename = \"example.txt\" \n",
    "read_file(filename)"
   ]
  },
  {
   "cell_type": "code",
   "execution_count": null,
   "id": "6547d28b-b1ee-4e21-b4bf-27834fedff65",
   "metadata": {},
   "outputs": [],
   "source": [
    "Write a Python program to count the number of lines in a file"
   ]
  },
  {
   "cell_type": "code",
   "execution_count": 7,
   "id": "a1453476-b721-48c0-9ae0-7eb66df81f8d",
   "metadata": {},
   "outputs": [
    {
     "name": "stdout",
     "output_type": "stream",
     "text": [
      "Error: The file 'example.txt' was not found.\n"
     ]
    }
   ],
   "source": [
    "def count_lines(filename):\n",
    "    \"\"\"Count and return the number of lines in a file.\"\"\"\n",
    "    try:\n",
    "        with open(filename, 'r', encoding='utf-8') as file:\n",
    "            return sum(1 for line in file)\n",
    "    except FileNotFoundError:\n",
    "        print(f\"Error: The file '{filename}' was not found.\")\n",
    "        return None\n",
    "filename = \"example.txt\"  \n",
    "line_count = count_lines(filename)\n",
    "if line_count is not None:\n",
    "    print(f\"Total number of lines: {line_count}\")"
   ]
  },
  {
   "cell_type": "code",
   "execution_count": null,
   "id": "cab2a8d9-e4c8-4c99-aab8-4317c1453465",
   "metadata": {},
   "outputs": [],
   "source": [
    "Write a Python program to print all odd numbers from 1 to 50 using a for loop and an if statement."
   ]
  },
  {
   "cell_type": "code",
   "execution_count": 8,
   "id": "9974242c-24c7-47a3-acd0-a22aee95e455",
   "metadata": {},
   "outputs": [
    {
     "name": "stdout",
     "output_type": "stream",
     "text": [
      "1 3 5 7 9 11 13 15 17 19 21 23 25 27 29 31 33 35 37 39 41 43 45 47 49 "
     ]
    }
   ],
   "source": [
    "for num in range(1, 51):\n",
    "    if num % 2 != 0:\n",
    "        print(num, end=\" \")"
   ]
  },
  {
   "cell_type": "code",
   "execution_count": null,
   "id": "a9ec2988-3a43-49c2-8251-629e25864919",
   "metadata": {},
   "outputs": [],
   "source": [
    "Write a function that returns the length of the longest word in a list of words"
   ]
  },
  {
   "cell_type": "code",
   "execution_count": 9,
   "id": "21ecce36-a085-4aab-af92-6dcb99007883",
   "metadata": {},
   "outputs": [
    {
     "name": "stdout",
     "output_type": "stream",
     "text": [
      "10\n"
     ]
    }
   ],
   "source": [
    "def longest_word_length(words):\n",
    "    \"\"\"Return the length of the longest word in a list.\"\"\"\n",
    "    if not words:\n",
    "        return 0  \n",
    "    return max(len(word) for word in words)\n",
    "word_list = [\"apple\", \"banana\", \"strawberry\", \"kiwi\"]\n",
    "print(longest_word_length(word_list))"
   ]
  },
  {
   "cell_type": "code",
   "execution_count": null,
   "id": "1984fabe-e4b0-4fea-8dd3-cc3bc67b5cab",
   "metadata": {},
   "outputs": [],
   "source": [
    "Write a function that takes a number as input and returns the square of that number"
   ]
  },
  {
   "cell_type": "code",
   "execution_count": 10,
   "id": "de613daa-d072-4aea-bc12-58111c3e37e9",
   "metadata": {},
   "outputs": [
    {
     "name": "stdout",
     "output_type": "stream",
     "text": [
      "25\n",
      "9\n",
      "0\n"
     ]
    }
   ],
   "source": [
    "def square(num):\n",
    "    \"\"\"Return the square of a number.\"\"\"\n",
    "    return num ** 2\n",
    "print(square(5))   \n",
    "print(square(-3))  \n",
    "print(square(0))   "
   ]
  },
  {
   "cell_type": "code",
   "execution_count": null,
   "id": "584d06dd-2a5d-4c0d-bdb6-3e7d0b03a7c0",
   "metadata": {},
   "outputs": [],
   "source": [
    "Write a function that takes a dictionary and returns the key with the highest value."
   ]
  },
  {
   "cell_type": "code",
   "execution_count": 11,
   "id": "027b53a4-9283-4f57-a34d-36c774a38c3c",
   "metadata": {},
   "outputs": [
    {
     "name": "stdout",
     "output_type": "stream",
     "text": [
      "b\n"
     ]
    }
   ],
   "source": [
    "def key_with_max_value(d):\n",
    "    \"\"\"Return the key with the highest value in the dictionary.\"\"\"\n",
    "    if not d:\n",
    "        return None \n",
    "    return max(d, key=d.get)\n",
    "data = {'a': 10, 'b': 25, 'c': 15}\n",
    "print(key_with_max_value(data)) "
   ]
  },
  {
   "cell_type": "code",
   "execution_count": null,
   "id": "76fa198f-6e49-490e-ba09-5b0296a3a296",
   "metadata": {},
   "outputs": [],
   "source": [
    "Write a Python program to print all numbers divisible by both 3 and 5 between 1 and 100."
   ]
  },
  {
   "cell_type": "code",
   "execution_count": 12,
   "id": "699da3ec-ef34-4cbc-ba54-a1d63c12fe6d",
   "metadata": {},
   "outputs": [
    {
     "name": "stdout",
     "output_type": "stream",
     "text": [
      "15 30 45 60 75 90 "
     ]
    }
   ],
   "source": [
    "for num in range(1, 101):\n",
    "    if num % 3 == 0 and num % 5 == 0:\n",
    "        print(num, end=\" \")"
   ]
  },
  {
   "cell_type": "code",
   "execution_count": null,
   "id": "6813f2b4-273d-45b9-a26f-1f7340e705d6",
   "metadata": {},
   "outputs": [],
   "source": [
    "Write a Python program to count how many numbers in a list are greater than 10"
   ]
  },
  {
   "cell_type": "code",
   "execution_count": 13,
   "id": "f9f139ee-538d-4d29-a985-f71696591469",
   "metadata": {},
   "outputs": [
    {
     "name": "stdout",
     "output_type": "stream",
     "text": [
      "4\n"
     ]
    }
   ],
   "source": [
    "def count_greater_than_ten(numbers):\n",
    "    \"\"\"Return the count of numbers greater than 10 in a list.\"\"\"\n",
    "    return sum(1 for num in numbers if num > 10)\n",
    "num_list = [5, 12, 8, 20, 15, 3, 10, 25]\n",
    "print(count_greater_than_ten(num_list))"
   ]
  },
  {
   "cell_type": "code",
   "execution_count": null,
   "id": "da7b8c73-25d6-4a86-8c14-0cc93a545dda",
   "metadata": {},
   "outputs": [],
   "source": [
    "Write a Python program to reverse a string using a for loop."
   ]
  },
  {
   "cell_type": "code",
   "execution_count": 15,
   "id": "679b31c1-073a-4ae4-8b5d-a3dabe3a9030",
   "metadata": {},
   "outputs": [
    {
     "name": "stdout",
     "output_type": "stream",
     "text": [
      "olleh\n"
     ]
    }
   ],
   "source": [
    "def reverse_string(s):\n",
    "    \"\"\"Return the reversed string using a for loop.\"\"\"\n",
    "    reversed_s = \"\"\n",
    "    for char in s:\n",
    "        reversed_s = char + reversed_s  \n",
    "    return reversed_s\n",
    "text = \"hello\"\n",
    "print(reverse_string(text))"
   ]
  },
  {
   "cell_type": "code",
   "execution_count": null,
   "id": "84f88b56-85ab-4701-a584-9ce15b3aff1e",
   "metadata": {},
   "outputs": [],
   "source": []
  }
 ],
 "metadata": {
  "kernelspec": {
   "display_name": "Python 3 (ipykernel)",
   "language": "python",
   "name": "python3"
  },
  "language_info": {
   "codemirror_mode": {
    "name": "ipython",
    "version": 3
   },
   "file_extension": ".py",
   "mimetype": "text/x-python",
   "name": "python",
   "nbconvert_exporter": "python",
   "pygments_lexer": "ipython3",
   "version": "3.12.7"
  }
 },
 "nbformat": 4,
 "nbformat_minor": 5
}
