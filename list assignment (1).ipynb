{
 "cells": [
  {
   "cell_type": "code",
   "execution_count": null,
   "id": "fa89a1d9-d85f-47ee-b67a-dc6a1014ef64",
   "metadata": {},
   "outputs": [],
   "source": [
    "Create a list of five integers. Remove the third element from the list and print the updated list."
   ]
  },
  {
   "cell_type": "code",
   "execution_count": 2,
   "id": "04537a39-ef30-4054-9a4e-d0b1a17e14cc",
   "metadata": {},
   "outputs": [
    {
     "name": "stdout",
     "output_type": "stream",
     "text": [
      "[2, 3, 4, 5, 7, 8]\n"
     ]
    }
   ],
   "source": [
    "numbers = [2,3,4,5,6,7,8]\n",
    "del numbers[4]\n",
    "print(numbers)"
   ]
  },
  {
   "cell_type": "code",
   "execution_count": null,
   "id": "baa9983d-0fa6-4716-a42b-f4ad0dab59e9",
   "metadata": {},
   "outputs": [],
   "source": [
    "Create a list of five integers. Remove the first occurrence of the number 10 from the list and print the result."
   ]
  },
  {
   "cell_type": "code",
   "execution_count": 3,
   "id": "3ceb4614-ab93-4ce0-9ac9-e9b11eee3a9d",
   "metadata": {},
   "outputs": [
    {
     "name": "stdout",
     "output_type": "stream",
     "text": [
      "[20, 10, 30, 40]\n"
     ]
    }
   ],
   "source": [
    "numbers = [10, 20, 10, 30, 40]\n",
    "numbers.remove(10)\n",
    "print(numbers)"
   ]
  },
  {
   "cell_type": "code",
   "execution_count": null,
   "id": "fdc13db0-6134-4cd3-badf-c8bcdd13b001",
   "metadata": {},
   "outputs": [],
   "source": [
    "Create a list and add the numbers 5, 10, and 15 to it. Print the final list."
   ]
  },
  {
   "cell_type": "code",
   "execution_count": 4,
   "id": "58592815-326f-41c7-b107-ae3380145724",
   "metadata": {},
   "outputs": [
    {
     "name": "stdout",
     "output_type": "stream",
     "text": [
      "[5, 10, 15]\n"
     ]
    }
   ],
   "source": [
    "numbers = []\n",
    "numbers.append(5)\n",
    "numbers.append(10)\n",
    "numbers.append(15)\n",
    "print(numbers)"
   ]
  },
  {
   "cell_type": "code",
   "execution_count": null,
   "id": "e2ef4925-0044-4591-b390-b045325161af",
   "metadata": {},
   "outputs": [],
   "source": [
    "Create a list with three strings. Use the append method to add a new string to the end of the list."
   ]
  },
  {
   "cell_type": "code",
   "execution_count": 5,
   "id": "3c8e3e67-acfe-4444-af49-a66d26f32ec8",
   "metadata": {},
   "outputs": [
    {
     "name": "stdout",
     "output_type": "stream",
     "text": [
      "['apple', 'banana', 'cherry', 'orange']\n"
     ]
    }
   ],
   "source": [
    "words = [\"apple\", \"banana\", \"cherry\"]\n",
    "words.append(\"orange\")\n",
    "print(words)"
   ]
  },
  {
   "cell_type": "code",
   "execution_count": null,
   "id": "58e356ce-a002-42d0-88a2-36e8f6a0ebe4",
   "metadata": {},
   "outputs": [],
   "source": [
    "Create a list of numbers and find the index of the first occurrence of the number 25 in the list. Print the index."
   ]
  },
  {
   "cell_type": "code",
   "execution_count": 6,
   "id": "6007001d-69d3-4c7c-be56-1b7f9308f8dc",
   "metadata": {},
   "outputs": [
    {
     "name": "stdout",
     "output_type": "stream",
     "text": [
      "2\n"
     ]
    }
   ],
   "source": [
    "numbers = [10, 20, 25, 30, 25, 40]\n",
    "index = numbers.index(25)\n",
    "print(index)"
   ]
  },
  {
   "cell_type": "code",
   "execution_count": null,
   "id": "386e7898-db80-4bed-af7a-fcba2eb8d783",
   "metadata": {},
   "outputs": [],
   "source": [
    "Create a list of strings and find the index of the string \"banana\". Print the index"
   ]
  },
  {
   "cell_type": "code",
   "execution_count": null,
   "id": "1e6d2452-9d0a-423f-80bf-0a46805dfc49",
   "metadata": {},
   "outputs": [],
   "source": [
    "fruits = [\"apple\", \"banana\", \"cherry\", \"date\"]\n",
    "index = fruits.index(\"banana\")\n",
    "print(index)"
   ]
  }
 ],
 "metadata": {
  "kernelspec": {
   "display_name": "Python 3 (ipykernel)",
   "language": "python",
   "name": "python3"
  },
  "language_info": {
   "codemirror_mode": {
    "name": "ipython",
    "version": 3
   },
   "file_extension": ".py",
   "mimetype": "text/x-python",
   "name": "python",
   "nbconvert_exporter": "python",
   "pygments_lexer": "ipython3",
   "version": "3.12.7"
  }
 },
 "nbformat": 4,
 "nbformat_minor": 5
}
